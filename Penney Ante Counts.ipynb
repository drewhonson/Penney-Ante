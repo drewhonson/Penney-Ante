{
 "cells": [
  {
   "cell_type": "markdown",
   "metadata": {},
   "source": [
    "#**Penney Ante Probabilities**\n",
    "#Drew Honson\n"
   ]
  },
  {
   "cell_type": "code",
   "execution_count": 5,
   "metadata": {
    "collapsed": true
   },
   "outputs": [],
   "source": [
    "import random\n",
    "import matplotlib.pyplot as plt\n",
    "plt.style.use(\"seaborn-colorblind\")\n",
    "\n",
    "def game(x):\n",
    "    pa = []\n",
    "    options = ['H','T']\n",
    "    for i in range(x):\n",
    "        pa.append(random.choice(options))\n",
    "    pas = ''.join(pa)\n",
    "    triplet = []\n",
    "    for j in range(len(pas)-2):\n",
    "        triplet.append(pas[j:j+3])\n",
    "    unique_triplets = set(triplet)\n",
    "    triplet_count = []\n",
    "    for k in unique_triplets:\n",
    "        if k in triplet:\n",
    "            triplet_count.append(triplet.count(k))\n",
    "    tripzip = zip(unique_triplets, triplet_count)\n",
    "    tripdict = dict(tripzip)\n",
    "    plt.bar(range(len(tripdict)), tripdict.values(), align='center')\n",
    "    plt.xticks(range(len(tripdict)), tripdict.keys(), rotation='45')\n",
    "    plt.title(\"Histogram of Triplet Usage\")\n",
    "    plt.ylabel(\"Triplet Count\")\n",
    "    plt.show()\n",
    "    return tripdict"
   ]
  },
  {
   "cell_type": "code",
   "execution_count": 6,
   "metadata": {},
   "outputs": [
    {
     "data": {
      "image/png": "[encoded data removed]",
      "text/plain": [
       "<matplotlib.figure.Figure at 0x10c6684e0>"
      ]
     },
     "metadata": {},
     "output_type": "display_data"
    },
    {
     "data": {
      "text/plain": [
       "{'HHH': 130,\n",
       " 'HHT': 130,\n",
       " 'HTH': 125,\n",
       " 'HTT': 122,\n",
       " 'THH': 130,\n",
       " 'THT': 116,\n",
       " 'TTH': 121,\n",
       " 'TTT': 124}"
      ]
     },
     "execution_count": 6,
     "metadata": {},
     "output_type": "execute_result"
    }
   ],
   "source": [
    "game(1000)"
   ]
  },
  {
   "cell_type": "code",
   "execution_count": 9,
   "metadata": {
    "collapsed": true
   },
   "outputs": [],
   "source": [
    "def first(x):\n",
    "    import random\n",
    "    import numpy as np\n",
    "    import pandas as pd\n",
    "    % matplotlib inline\n",
    "    first_unique = [] #This list stores the first occurrence of each triplet for each run as a list of lists\n",
    "    for _ in range(x): #Input to the \"first\" program determines number of times the loop runs\n",
    "        pa = []\n",
    "        triplet = []\n",
    "        unique_triplet = ['HHH','HHT','HTH','HTT','THH','THT','TTH','TTT']\n",
    "        options = ['H','T']\n",
    "        #Run 1000 flips and covert to a string\n",
    "        for i in range(1000):\n",
    "            pa.append(random.choice(options))\n",
    "            pas = ''.join(pa)\n",
    "        #Convert the string into a list of triplets\n",
    "        for j in range(len(pas)-2):\n",
    "            triplet.append(pas[j:j+3])\n",
    "        #Append the first occurrence of each triplet for one run to a list\n",
    "        unique_list = []\n",
    "        for i in unique_triplet:\n",
    "            unique_list.append(triplet.index(i)+1)\n",
    "        #Store the results for each run to a list of lists outside the loop\n",
    "        #The program breaks somewhere around here if one triplet is not represented in one of the runs\n",
    "        #This happens if you run more than a million or so games\n",
    "        first_unique.append(unique_list)\n",
    "    #Convert first_unique to a Pandas array and label the columns with the corresponding triplet\n",
    "    first_panda = pd.DataFrame(np.array(first_unique), columns = unique_triplet)\n",
    "    #Print a boxplot\n",
    "    first_panda.boxplot(figsize = (10,100))\n",
    "    #Print the means of the first occurrence of each triplet\n",
    "    return first_panda.mean()\n"
   ]
  },
  {
   "cell_type": "code",
   "execution_count": 10,
   "metadata": {},
   "outputs": [
    {
     "data": {
      "text/plain": [
       "HHH    12.1421\n",
       "HHT     5.9199\n",
       "HTH     7.9039\n",
       "HTT     6.0320\n",
       "THH     5.8362\n",
       "THT     8.0296\n",
       "TTH     6.0067\n",
       "TTT    12.0735\n",
       "dtype: float64"
      ]
     },
     "execution_count": 10,
     "metadata": {},
     "output_type": "execute_result"
    },
    {
     "data": {
      "image/png": "[encoded data removed]",
      "text/plain": [
       "<matplotlib.figure.Figure at 0x10fa2f550>"
      ]
     },
     "metadata": {},
     "output_type": "display_data"
    }
   ],
   "source": [
    "first(10000)"
   ]
  },
  {
   "cell_type": "code",
   "execution_count": null,
   "metadata": {
    "collapsed": true
   },
   "outputs": [],
   "source": []
  }
 ],
 "metadata": {
  "kernelspec": {
   "display_name": "Python 3",
   "language": "python",
   "name": "python3"
  },
  "language_info": {
   "codemirror_mode": {
    "name": "ipython",
    "version": 3
   },
   "file_extension": ".py",
   "mimetype": "text/x-python",
   "name": "python",
   "nbconvert_exporter": "python",
   "pygments_lexer": "ipython3",
   "version": "3.6.1"
  }
 },
 "nbformat": 4,
 "nbformat_minor": 2
}
