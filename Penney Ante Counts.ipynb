{
 "cells": [
  {
   "cell_type": "markdown",
   "metadata": {},
   "source": [
    "Penney Ante Probabilities"
   ]
  },
  {
   "cell_type": "code",
   "execution_count": 1,
   "metadata": {
    "collapsed": true
   },
   "outputs": [],
   "source": [
    "import random\n",
    "import matplotlib.pyplot as plt\n",
    "plt.style.use(\"seaborn-colorblind\")\n",
    "\n",
    "def game(x):\n",
    "    pa = []\n",
    "    options = ['H','T']\n",
    "    for i in range(x):\n",
    "        pa.append(random.choice(options))\n",
    "    pas = ''.join(pa)\n",
    "    triplet = []\n",
    "    for j in range(len(pas)-2):\n",
    "        triplet.append(pas[j:j+3])\n",
    "    unique_triplets = set(triplet)\n",
    "    triplet_count = []\n",
    "    for k in unique_triplets:\n",
    "        if k in triplet:\n",
    "            triplet_count.append(triplet.count(k))\n",
    "    tripzip = zip(unique_triplets, triplet_count)\n",
    "    tripdict = dict(tripzip)\n",
    "    plt.bar(range(len(tripdict)), tripdict.values(), align='center')\n",
    "    plt.xticks(range(len(tripdict)), tripdict.keys(), rotation='45')\n",
    "    plt.title(\"Histogram of Triplet Usage\")\n",
    "    plt.ylabel(\"Triplet Count\")\n",
    "    plt.show()\n",
    "    return tripdict"
   ]
  },
  {
   "cell_type": "code",
   "execution_count": 30,
   "metadata": {},
   "outputs": [
    {
     "data": {
      "image/png": "[encoded data removed]",
      "text/plain": [
       "<matplotlib.figure.Figure at 0x10d58a160>"
      ]
     },
     "metadata": {},
     "output_type": "display_data"
    },
    {
     "data": {
      "text/plain": [
       "{'HHH': 7,\n",
       " 'HHT': 10,\n",
       " 'HTH': 8,\n",
       " 'HTT': 15,\n",
       " 'THH': 10,\n",
       " 'THT': 13,\n",
       " 'TTH': 15,\n",
       " 'TTT': 20}"
      ]
     },
     "execution_count": 30,
     "metadata": {},
     "output_type": "execute_result"
    }
   ],
   "source": [
    "game(100)"
   ]
  },
  {
   "cell_type": "code",
   "execution_count": 71,
   "metadata": {
    "collapsed": true
   },
   "outputs": [],
   "source": [
    "def first(x):\n",
    "    import random\n",
    "    first_unique = [['HHH','HHT','HTH','HTT','THH','THT','TTH','TTT']]\n",
    "    for _ in range(x):\n",
    "        pa = []\n",
    "        triplet = []\n",
    "        unique_triplet = ['HHH','HHT','HTH','HTT','THH','THT','TTH','TTT']\n",
    "        options = ['H','T']\n",
    "        for i in range(100):\n",
    "            pa.append(random.choice(options))\n",
    "            pas = ''.join(pa)\n",
    "        for j in range(len(pas)-2):\n",
    "            triplet.append(pas[j:j+3])\n",
    "        unique_list = []\n",
    "        for i in unique_triplet:\n",
    "            unique_list.append(triplet.index(i)+1)\n",
    "        first_unique.append(unique_list)\n",
    "    return first_unique\n"
   ]
  },
  {
   "cell_type": "code",
   "execution_count": 73,
   "metadata": {},
   "outputs": [
    {
     "data": {
      "text/plain": [
       "{'HHH': [10, 11, 8, 2, 9, 1, 6, 3],\n",
       " 'HHT': [14, 16, 1, 3, 13, 2, 7, 4],\n",
       " 'HTH': [1, 3, 4, 9, 7, 5, 10, 17],\n",
       " 'HTT': [8, 2, 6, 3, 1, 5, 4, 22],\n",
       " 'THH': [4, 5, 6, 12, 3, 25, 2, 1],\n",
       " 'THT': [6, 3, 1, 16, 2, 18, 17, 35],\n",
       " 'TTH': [8, 2, 20, 3, 1, 15, 6, 4],\n",
       " 'TTT': [9, 10, 23, 2, 8, 1, 3, 6]}"
      ]
     },
     "execution_count": 73,
     "metadata": {},
     "output_type": "execute_result"
    }
   ],
   "source": [
    "first(8)"
   ]
  },
  {
   "cell_type": "code",
   "execution_count": 59,
   "metadata": {},
   "outputs": [
    {
     "name": "stdout",
     "output_type": "stream",
     "text": [
      "['B']\n",
      "B\n",
      "['B', 'A', 'B', 'A', 'A', 'A', 'B', 'A', 'A', 'B']\n"
     ]
    }
   ],
   "source": [
    "import random\n",
    "lost = []\n",
    "for _ in range(10):\n",
    "    ls = []\n",
    "    op = ['A','B']\n",
    "    ls.append(random.choice(op))\n",
    "    lstr = ''.join(ls)\n",
    "    lost.append(lstr)\n",
    "print(ls)\n",
    "print(lstr)\n",
    "print(lost)"
   ]
  },
  {
   "cell_type": "code",
   "execution_count": 80,
   "metadata": {},
   "outputs": [
    {
     "name": "stdout",
     "output_type": "stream",
     "text": [
      "[['x' 'y' 'z']\n",
      " ['1' '2' '3']\n",
      " ['4' '5' '6']]\n"
     ]
    }
   ],
   "source": [
    "import numpy as np\n",
    "a = ['x','y','z']\n",
    "b = [1,2,3]\n",
    "c = [4,5,6]\n",
    "d = np.array([a,b,c])\n",
    "print(d)"
   ]
  },
  {
   "cell_type": "code",
   "execution_count": null,
   "metadata": {
    "collapsed": true
   },
   "outputs": [],
   "source": []
  }
 ],
 "metadata": {
  "kernelspec": {
   "display_name": "Python 3",
   "language": "python",
   "name": "python3"
  },
  "language_info": {
   "codemirror_mode": {
    "name": "ipython",
    "version": 3
   },
   "file_extension": ".py",
   "mimetype": "text/x-python",
   "name": "python",
   "nbconvert_exporter": "python",
   "pygments_lexer": "ipython3",
   "version": "3.6.1"
  }
 },
 "nbformat": 4,
 "nbformat_minor": 2
}
