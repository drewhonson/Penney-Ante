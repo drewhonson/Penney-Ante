{
 "cells": [
  {
   "cell_type": "markdown",
   "metadata": {},
   "source": [
    "# **Penney Ante Probabilities**\n",
    "## Drew Honson\n"
   ]
  },
  {
   "cell_type": "markdown",
   "metadata": {},
   "source": [
    "# The Penney Ante is a game of chance based on coin flips. One player picks a triplet of flips (e.g. 'heads, tails, heads') then a second player picks a different triplet. The players then flip a coin until one of the chosen triplets occurs. For the first three flips, all triplets are equally probable at a 12.5% chance for each triplet. Afterwards, however, some triplets are better than others."
   ]
  },
  {
   "cell_type": "markdown",
   "metadata": {},
   "source": [
    "# **Player 1 : HHH**\n",
    "# **Player 2 : THH**\n",
    "\n",
    "# **First three flips: HHT**\n",
    "   ## No one can win on the next flip (only possibilities are HTH and HTT)\n",
    "   ## But, Player 2 has a 25% chance of winning two flips from now (50% chance of HTH, then 50% chance of THH)\n",
    "   ## Player 1 cannot win in the next two flips, so Player 2 has the advantage\n",
    "\n",
    "## If you look at all eight possibilities for the first three flips, and the resulting probabilities of the subsequent flips, some choices are better than others. These relations can be calculated mathematically, but Python alllows us to do it experimentally too.\n",
    "\n",
    "## But first, a sanity check. Let's check that every triplet is equally likely if you don't account for the order in which they occur. We'll create a program that flips a coin a million times then plots the frequency of each triplet.\n"
   ]
  },
  {
   "cell_type": "code",
   "execution_count": 1,
   "metadata": {
    "collapsed": true
   },
   "outputs": [],
   "source": [
    "import random\n",
    "import matplotlib.pyplot as plt\n",
    "plt.style.use(\"seaborn-colorblind\")\n",
    "#This program will run x number of flips and show a histogram of triplet occurrences\n",
    "def game(x):\n",
    "    '''Make a histogram of triplet occurrences for x number of coin flips'''\n",
    "    #Load an empty list and the heads/tails options\n",
    "    pa = []\n",
    "    options = ['H','T']\n",
    "    \n",
    "    #Append random heads and tails options to pa for the number of flips specified.\n",
    "    #The +1 in the range accounts for Python's numbering system.\n",
    "    \n",
    "    for i in range(x):\n",
    "        pa.append(random.choice(options))\n",
    "        \n",
    "    #Join pa into a string\n",
    "    pas = ''.join(pa)\n",
    "    \n",
    "    #Split the string into triplets for each flip\n",
    "    triplet = []\n",
    "    for j in range(len(pas)-2):\n",
    "        triplet.append(pas[j:j+3])\n",
    "        \n",
    "    #Count occurrences of each triplet in the list, and turn it into a dictionary.\n",
    "    unique_triplets = ['HHH','HHT','HTH','HTT','THH','THT','TTH','TTT']\n",
    "    triplet_count = []\n",
    "    for k in unique_triplets:\n",
    "        if k in triplet:\n",
    "            triplet_count.append(triplet.count(k))\n",
    "    tripdict = dict(zip(unique_triplets, triplet_count))\n",
    "    \n",
    "    #Plot a histogram of triplet usage along with the dictionary of values\n",
    "    plt.bar(range(len(tripdict)), tripdict.values(), align='center')\n",
    "    plt.xticks(range(len(tripdict)), tripdict.keys(), rotation='45')\n",
    "    plt.title(\"Histogram of Triplet Usage\")\n",
    "    plt.ylabel(\"Triplet Count\")\n",
    "    plt.show()\n",
    "    return tripdict"
   ]
  },
  {
   "cell_type": "code",
   "execution_count": 2,
   "metadata": {},
   "outputs": [
    {
     "data": {
      "image/png": "[encoded data removed]",
      "text/plain": [
       "<matplotlib.figure.Figure at 0x111b32898>"
      ]
     },
     "metadata": {},
     "output_type": "display_data"
    },
    {
     "data": {
      "text/plain": [
       "{'HHH': 125345,\n",
       " 'HHT': 125087,\n",
       " 'HTH': 124902,\n",
       " 'HTT': 125000,\n",
       " 'THH': 125086,\n",
       " 'THT': 124816,\n",
       " 'TTH': 125000,\n",
       " 'TTT': 124762}"
      ]
     },
     "execution_count": 2,
     "metadata": {},
     "output_type": "execute_result"
    }
   ],
   "source": [
    "game(1000000)"
   ]
  },
  {
   "cell_type": "markdown",
   "metadata": {},
   "source": [
    "# Great! Now we can see that over a million flips, the occurrence of each triplet is roughly the same, as we'd expect. But now, what if we account for which triplets arise first? Let's run a hundred thousand games of a thousand flips each and see if any triplets come out as inherently better than others."
   ]
  },
  {
   "cell_type": "code",
   "execution_count": 3,
   "metadata": {
    "collapsed": true
   },
   "outputs": [],
   "source": [
    "def first(x):\n",
    "    '''Finds the first occurrence of each triplet over the course of x games of 1000 flips'''\n",
    "    import random\n",
    "    import numpy as np\n",
    "    import pandas as pd\n",
    "    % matplotlib inline\n",
    "    first_unique = [] #This list stores the first occurrence of each triplet for each run as a list of lists\n",
    "    for _ in range(x): #Input to the \"first\" program determines number of times the loop runs\n",
    "        pa = []\n",
    "        triplet = []\n",
    "        unique_triplet = ['HHH','HHT','HTH','HTT','THH','THT','TTH','TTT']\n",
    "        options = ['H','T']\n",
    "        #Run 1000 flips and covert to a string\n",
    "        for i in range(1000):\n",
    "            pa.append(random.choice(options))\n",
    "        pas = ''.join(pa)\n",
    "        #Convert the string into a list of triplets\n",
    "        for j in range(len(pas)-2):\n",
    "            triplet.append(pas[j:j+3])\n",
    "        #Append the first occurrence of each triplet for one run to a list\n",
    "        unique_list = []\n",
    "        for i in unique_triplet:\n",
    "            unique_list.append(triplet.index(i)+1)\n",
    "        #Store the results for each run to a list of lists outside the loop\n",
    "        #The program breaks somewhere around here if one triplet is not represented in one of the runs\n",
    "        #This happens if you run more than a million or so games\n",
    "        first_unique.append(unique_list)\n",
    "    #Convert first_unique to a Pandas array and label the columns with the corresponding triplet\n",
    "    first_panda = pd.DataFrame(np.array(first_unique), columns = unique_triplet)\n",
    "    #Print a boxplot\n",
    "    first_panda.boxplot(figsize = (10,100))\n",
    "    #Print the means of the first occurrence of each triplet\n",
    "    return first_panda.mean()\n"
   ]
  },
  {
   "cell_type": "code",
   "execution_count": 4,
   "metadata": {},
   "outputs": [
    {
     "data": {
      "text/plain": [
       "HHH    12.00858\n",
       "HHT     6.01618\n",
       "HTH     7.97565\n",
       "HTT     5.99179\n",
       "THH     5.99158\n",
       "THT     8.00433\n",
       "TTH     5.99057\n",
       "TTT    11.95402\n",
       "dtype: float64"
      ]
     },
     "execution_count": 4,
     "metadata": {},
     "output_type": "execute_result"
    },
    {
     "data": {
      "image/png": "[encoded data removed]",
      "text/plain": [
       "<matplotlib.figure.Figure at 0x111e209e8>"
      ]
     },
     "metadata": {},
     "output_type": "display_data"
    }
   ],
   "source": [
    "first(100000)"
   ]
  },
  {
   "cell_type": "markdown",
   "metadata": {},
   "source": [
    "# Now we can see that some triplets are indeed better than others. HHH and TTT are the worst because each one can only be preceded by one triplet: THH for HHH, and HTT for TTT. In contrast, HTH is among the best because it can be preceded by two triplets: THT and HHT. The smaller differences among triplets can be accounted for by the relative probabilities of each triplet that precedes it. This quickly turns into complicated math, but Python lets us run it experimentally without needing to calculate all the theoretical probabilities.\n",
    "\n",
    "# Now it's time to play for yourselves! Choose your triplet wisely!"
   ]
  },
  {
   "cell_type": "code",
   "execution_count": 5,
   "metadata": {},
   "outputs": [
    {
     "name": "stdout",
     "output_type": "stream",
     "text": [
      "Player 1 Triplet:    HHH\n",
      "Player 2 Triplet:    THH\n",
      "Player 2 wins after 13 flips!\n"
     ]
    }
   ],
   "source": [
    "import random\n",
    "#Players pick their triplets\n",
    "player1 = input(\"Player 1 Triplet:    \").upper()\n",
    "player2 = input(\"Player 2 Triplet:    \").upper()\n",
    "unique_triplet = ['HHH','HHT','HTH','HTT','THH','THT','TTH','TTT']\n",
    "#Check that players picked different triplets and that the triplets picked are valid\n",
    "if player1 == player2:\n",
    "    raise Exception('Players 1 and 2 must pick different triplets')\n",
    "elif player1 not in unique_triplet:\n",
    "    raise Exception('You must pick a heads and tails triplet. The valid triplets are ' + str(unique_triplet) + '.')\n",
    "elif player2 not in unique_triplet:\n",
    "    raise Exception('You must pick a heads and tails triplet. The valid triplets are ' + str(unique_triplet) + '.')\n",
    "#If everything looks good, run the game\n",
    "else:\n",
    "    palist = []\n",
    "    #Patrip must be loaded with an empty figure so that patrip[-1] is within the index range.\n",
    "    patrip = ['blank']\n",
    "    options = ['H', 'T']\n",
    "    #While loop runs as long as the last value of patrip is not either player's choice\n",
    "    while patrip[-1] != player1 and patrip[-1] != player2:\n",
    "        palist.append(random.choice(options))\n",
    "        pastring = ''.join(palist)\n",
    "        for j in range(len(pastring)-2):\n",
    "            patrip.append(pastring[j:j+3])\n",
    "    #Conditionals check and print who wins the game and how many flips it took\n",
    "    if patrip[-1] == player1:\n",
    "        print('Player 1 wins after ' + str(len(pastring)) + ' flips!')\n",
    "    elif patrip[-1] == player2:\n",
    "        print('Player 2 wins after ' + str(len(pastring)) + ' flips!')"
   ]
  }
 ],
 "metadata": {
  "kernelspec": {
   "display_name": "Python 3",
   "language": "python",
   "name": "python3"
  },
  "language_info": {
   "codemirror_mode": {
    "name": "ipython",
    "version": 3
   },
   "file_extension": ".py",
   "mimetype": "text/x-python",
   "name": "python",
   "nbconvert_exporter": "python",
   "pygments_lexer": "ipython3",
   "version": "3.6.1"
  }
 },
 "nbformat": 4,
 "nbformat_minor": 2
}
